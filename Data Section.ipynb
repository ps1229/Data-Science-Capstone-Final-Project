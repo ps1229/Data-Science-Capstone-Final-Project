{
 "cells": [
  {
   "cell_type": "markdown",
   "metadata": {},
   "source": [
    "## - Data Collection"
   ]
  },
  {
   "cell_type": "markdown",
   "metadata": {},
   "source": [
    "The most populated cities in the United States are New York, NY, San Francisco, CA, Jersey City, NJ, Boston, MA and Chicago, IL. I will be using the  FourSquare API to collect data about the pizza venue densities in these major US cities to suggest a location to setup their first shop."
   ]
  },
  {
   "cell_type": "markdown",
   "metadata": {},
   "source": [
    "## - Data Analysis"
   ]
  },
  {
   "cell_type": "markdown",
   "metadata": {},
   "source": [
    "The main objective is to locate the city with the highest density of pizza venues for the client to set up shop. I will be using the Four Square API through the venues channel for the respective states mentioned above. I will then use the near query to get venues in the cities, used the CategoryID to show only pizza places, and then narroW it to the top 100 venues for each city being studied."
   ]
  },
  {
   "cell_type": "markdown",
   "metadata": {},
   "source": [
    "An example of my request code for one of the city is as follows:\n",
    "    \n",
    "    \n",
    "    https://api.foursquare.com/v2/venues/explore?&client_id=&client_secret=&v=20180605&New York, NY&limit=100&categoryId=4bf58dd8d48988d1ca941735\n",
    "    \n",
    "    \n",
    "The 4bf58dd8d48988d1ca941735 is the ID of the category for pizza venues. Moreover, I will repeat this request for each of the studied cities to save the name and coordinate data. For each result, I will plot them on the map for visual inspection."
   ]
  }
 ],
 "metadata": {
  "kernelspec": {
   "display_name": "Python 3",
   "language": "python",
   "name": "python3"
  },
  "language_info": {
   "codemirror_mode": {
    "name": "ipython",
    "version": 3
   },
   "file_extension": ".py",
   "mimetype": "text/x-python",
   "name": "python",
   "nbconvert_exporter": "python",
   "pygments_lexer": "ipython3",
   "version": "3.7.4"
  }
 },
 "nbformat": 4,
 "nbformat_minor": 2
}
